{
 "cells": [
  {
   "cell_type": "code",
   "execution_count": 1,
   "metadata": {},
   "outputs": [
    {
     "name": "stdout",
     "output_type": "stream",
     "text": [
      "✅ RFE Selected Features: ['Salary', 'Education Level']\n",
      "🚀 Model Accuracy: 1.0\n"
     ]
    }
   ],
   "source": [
    "import pandas as pd\n",
    "import numpy as np\n",
    "from sklearn.linear_model import LogisticRegression\n",
    "from sklearn.feature_selection import RFE\n",
    "from sklearn.model_selection import train_test_split\n",
    "from sklearn.preprocessing import StandardScaler\n",
    "\n",
    "# 📌 Step 1: Create Sample Data\n",
    "data = {\n",
    "    \"Age\": [25, 30, 35, 40, 22, 50, 45, 28, 33, 38, 55, 60, 27, 42, 48, 53, 32, 37, 26, 29],\n",
    "    \"Salary\": [50000, 60000, 75000, 80000, 45000, 90000, 85000, 55000, 70000, 78000, 95000, 110000, 52000, 87000, 91000, 108000, 66000, 77000, 49000, 58000],\n",
    "    \"Experience\": [2, 5, 7, 10, 1, 15, 12, 3, 6, 8, 17, 20, 4, 11, 14, 18, 5, 9, 2, 4],\n",
    "    \"Education Level\": [1, 2, 2, 3, 1, 3, 3, 1, 2, 3, 3, 4, 1, 3, 3, 4, 2, 3, 1, 1],  # Categorical (Ordinal)\n",
    "    \"Loan Approved\": [0, 1, 1, 1, 0, 1, 1, 0, 1, 1, 1, 1, 0, 1, 1, 1, 1, 1, 0, 0],  # Target Variable\n",
    "}\n",
    "\n",
    "df = pd.DataFrame(data)\n",
    "\n",
    "# 📌 Step 2: Define Features and Target\n",
    "X = df.drop(columns=[\"Loan Approved\"])  # Features\n",
    "y = df[\"Loan Approved\"]  # Target variable\n",
    "\n",
    "# 📌 Step 3: Split Data (80% Train, 20% Test)\n",
    "X_train, X_test, y_train, y_test = train_test_split(X, y, test_size=0.2, random_state=42)\n",
    "\n",
    "# 📌 Step 4: Standardize Data (Only for Numeric Features)\n",
    "scaler = StandardScaler()\n",
    "X_train_scaled = scaler.fit_transform(X_train)\n",
    "X_test_scaled = scaler.transform(X_test)\n",
    "\n",
    "# 📌 Step 5: Define Model\n",
    "model = LogisticRegression()\n",
    "\n",
    "# 📌 Step 6: Apply Recursive Feature Elimination (RFE)\n",
    "rfe = RFE(estimator=model, n_features_to_select=2)  # Keep only 2 best features\n",
    "X_train_selected = rfe.fit_transform(X_train_scaled, y_train)\n",
    "X_test_selected = rfe.transform(X_test_scaled)\n",
    "\n",
    "# 📌 Step 7: Train the Model with Selected Features\n",
    "model.fit(X_train_selected, y_train)\n",
    "score = model.score(X_test_selected, y_test)\n",
    "\n",
    "# 📌 Step 8: Print Selected Features and Model Score\n",
    "print(\"✅ RFE Selected Features:\", list(X.columns[rfe.support_]))\n",
    "print(\"🚀 Model Accuracy:\", score)\n"
   ]
  }
 ],
 "metadata": {
  "kernelspec": {
   "display_name": "base",
   "language": "python",
   "name": "python3"
  },
  "language_info": {
   "codemirror_mode": {
    "name": "ipython",
    "version": 3
   },
   "file_extension": ".py",
   "mimetype": "text/x-python",
   "name": "python",
   "nbconvert_exporter": "python",
   "pygments_lexer": "ipython3",
   "version": "3.12.7"
  }
 },
 "nbformat": 4,
 "nbformat_minor": 2
}
